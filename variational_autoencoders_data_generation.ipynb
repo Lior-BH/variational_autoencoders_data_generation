{
 "cells": [
  {
   "cell_type": "markdown",
   "id": "6e7e4eb2",
   "metadata": {
    "papermill": {
     "duration": 0.010379,
     "end_time": "2023-04-29T14:45:21.969743",
     "exception": false,
     "start_time": "2023-04-29T14:45:21.959364",
     "status": "completed"
    },
    "tags": []
   },
   "source": [
    "* **Dataset:** MNIST\n",
    "* **Method:** VAE (Variational AutoEncoder)\n",
    "* **Tools:** TensorFlow & Keras\n",
    "* **Purpose:** Generation additional data using the method"
   ]
  },
  {
   "cell_type": "markdown",
   "id": "36b359a9",
   "metadata": {
    "papermill": {
     "duration": 0.00819,
     "end_time": "2023-04-29T14:45:21.986890",
     "exception": false,
     "start_time": "2023-04-29T14:45:21.978700",
     "status": "completed"
    },
    "tags": []
   },
   "source": [
    "# Variational automatic encoder and additional data generation\n",
    "\n",
    "1. **Introduction**\n",
    "*  What is autoencoding?\n",
    "*  Autoencoders\n",
    "*  The Variational Variety\n",
    "2. **Data preparation**\n",
    "*  Load MNIST data\n",
    "*  Reshape & normalize\n",
    "*  Plot sample\n",
    "*  Flatten the images(Last Reshape)\n",
    "3. **Building VAE model**\n",
    "*  Sampling Function\n",
    "*  Encoder network\n",
    "*  Decoder network\n",
    "*  Loss function\n",
    "4. **Train the VAE**\n",
    "5. **Results**\n",
    "*  Clustering of digits in the latent space\n",
    "*  Sample digits"
   ]
  },
  {
   "cell_type": "markdown",
   "id": "e88c90b3",
   "metadata": {
    "papermill": {
     "duration": 0.00825,
     "end_time": "2023-04-29T14:45:22.003822",
     "exception": false,
     "start_time": "2023-04-29T14:45:21.995572",
     "status": "completed"
    },
    "tags": []
   },
   "source": [
    "# 1. Introduction"
   ]
  },
  {
   "cell_type": "markdown",
   "id": "84925bc6",
   "metadata": {
    "papermill": {
     "duration": 0.008288,
     "end_time": "2023-04-29T14:45:22.020675",
     "exception": false,
     "start_time": "2023-04-29T14:45:22.012387",
     "status": "completed"
    },
    "tags": []
   },
   "source": [
    "............................\n",
    "\n",
    "\n",
    "![](https://i.imgur.com/ZN6MyTx.pnghttps://i.imgur.com/ZN6MyTx.png)\n",
    "\n",
    "**What is autoencoding?**\n",
    "\n",
    ".............................\n",
    "....................................\n",
    "......................................................\n",
    "\n",
    "\n",
    "**What is VAE?**\n",
    "\n",
    "...................................\n",
    "..............................\n",
    ".......................\n",
    "\n",
    "\n",
    "**What are the differences between AE and VAE?**\n",
    "\n",
    ".........................................\n",
    ".......................................\n",
    ".................................."
   ]
  },
  {
   "cell_type": "markdown",
   "id": "f702e5f4",
   "metadata": {
    "papermill": {
     "duration": 0.008214,
     "end_time": "2023-04-29T14:45:22.037562",
     "exception": false,
     "start_time": "2023-04-29T14:45:22.029348",
     "status": "completed"
    },
    "tags": []
   },
   "source": [
    "# 2. Data preparation"
   ]
  },
  {
   "cell_type": "markdown",
   "id": "2907dacb",
   "metadata": {
    "papermill": {
     "duration": 0.008132,
     "end_time": "2023-04-29T14:45:22.054272",
     "exception": false,
     "start_time": "2023-04-29T14:45:22.046140",
     "status": "completed"
    },
    "tags": []
   },
   "source": [
    "**Importing libraries**"
   ]
  },
  {
   "cell_type": "markdown",
   "id": "13f157bf",
   "metadata": {
    "papermill": {
     "duration": 0.008158,
     "end_time": "2023-04-29T14:45:22.071049",
     "exception": false,
     "start_time": "2023-04-29T14:45:22.062891",
     "status": "completed"
    },
    "tags": []
   },
   "source": [
    "An explanation of each library and version is attached"
   ]
  },
  {
   "cell_type": "code",
   "execution_count": 1,
   "id": "418c3f78",
   "metadata": {
    "execution": {
     "iopub.execute_input": "2023-04-29T14:45:22.091249Z",
     "iopub.status.busy": "2023-04-29T14:45:22.090840Z",
     "iopub.status.idle": "2023-04-29T14:45:31.837359Z",
     "shell.execute_reply": "2023-04-29T14:45:31.835561Z"
    },
    "papermill": {
     "duration": 9.759071,
     "end_time": "2023-04-29T14:45:31.839793",
     "exception": true,
     "start_time": "2023-04-29T14:45:22.080722",
     "status": "failed"
    },
    "tags": []
   },
   "outputs": [
    {
     "name": "stdout",
     "output_type": "stream",
     "text": [
      "Tensorflow/Keras: 2.11.0\n",
      "numpy: 1.21.6\n",
      "pandas: 1.3.5\n"
     ]
    },
    {
     "ename": "NameError",
     "evalue": "name 'matplotlib' is not defined",
     "output_type": "error",
     "traceback": [
      "\u001b[0;31m---------------------------------------------------------------------------\u001b[0m",
      "\u001b[0;31mNameError\u001b[0m                                 Traceback (most recent call last)",
      "\u001b[0;32m/tmp/ipykernel_19/2458551600.py\u001b[0m in \u001b[0;36m<module>\u001b[0;34m\u001b[0m\n\u001b[1;32m     16\u001b[0m \u001b[0;31m# Visualization\u001b[0m\u001b[0;34m\u001b[0m\u001b[0;34m\u001b[0m\u001b[0;34m\u001b[0m\u001b[0m\n\u001b[1;32m     17\u001b[0m \u001b[0;32mimport\u001b[0m \u001b[0mmatplotlib\u001b[0m\u001b[0;34m.\u001b[0m\u001b[0mpyplot\u001b[0m \u001b[0;32mas\u001b[0m \u001b[0mplt\u001b[0m \u001b[0;31m# for plotting model loss\u001b[0m\u001b[0;34m\u001b[0m\u001b[0;34m\u001b[0m\u001b[0m\n\u001b[0;32m---> 18\u001b[0;31m \u001b[0mprint\u001b[0m\u001b[0;34m(\u001b[0m\u001b[0;34m'matplotlib: %s'\u001b[0m \u001b[0;34m%\u001b[0m \u001b[0mmatplotlib\u001b[0m\u001b[0;34m.\u001b[0m\u001b[0m__version__\u001b[0m\u001b[0;34m)\u001b[0m \u001b[0;31m# print version\u001b[0m\u001b[0;34m\u001b[0m\u001b[0;34m\u001b[0m\u001b[0m\n\u001b[0m\u001b[1;32m     19\u001b[0m \u001b[0;32mimport\u001b[0m \u001b[0mgraphviz\u001b[0m \u001b[0;31m# for showing model diagram\u001b[0m\u001b[0;34m\u001b[0m\u001b[0;34m\u001b[0m\u001b[0m\n\u001b[1;32m     20\u001b[0m \u001b[0mprint\u001b[0m\u001b[0;34m(\u001b[0m\u001b[0;34m'graphviz: %s'\u001b[0m \u001b[0;34m%\u001b[0m \u001b[0mgraphviz\u001b[0m\u001b[0;34m.\u001b[0m\u001b[0m__version__\u001b[0m\u001b[0;34m)\u001b[0m \u001b[0;31m# print version\u001b[0m\u001b[0;34m\u001b[0m\u001b[0;34m\u001b[0m\u001b[0m\n",
      "\u001b[0;31mNameError\u001b[0m: name 'matplotlib' is not defined"
     ]
    }
   ],
   "source": [
    "# Tensorflow / Keras\n",
    "from tensorflow import keras # for building Neural Networks\n",
    "print('Tensorflow/Keras: %s' % keras.__version__) # print version\n",
    "from keras.models import Model # for creating assembling a Neural Network model\n",
    "from keras import Input # for instantiating a keras tensor and specifying input dimensions\n",
    "from keras.layers import Dense, Lambda # adding layers to the Neural Network model\n",
    "from tensorflow.keras.utils import plot_model # for plotting model diagram\n",
    "from keras import backend as K # for access to Keras backend for reparameterization and creating custom loss function\n",
    "\n",
    "# Data manipulation\n",
    "import numpy as np # for data manipulation\n",
    "print('numpy: %s' % np.__version__) # print version\n",
    "import pandas as pd # for data manipulation\n",
    "print('pandas: %s' % pd.__version__) # print version\n",
    "\n",
    "# Visualization\n",
    "import matplotlib.pyplot as plt # for plotting model loss\n",
    "print('matplotlib: %s' % matplotlib.__version__) # print version\n",
    "import graphviz # for showing model diagram\n",
    "print('graphviz: %s' % graphviz.__version__) # print version\n",
    "import plotly\n",
    "import plotly.express as px # for data visualization\n",
    "print('plotly: %s' % plotly.__version__) # print version\n"
   ]
  },
  {
   "cell_type": "markdown",
   "id": "c015a273",
   "metadata": {
    "papermill": {
     "duration": null,
     "end_time": null,
     "exception": null,
     "start_time": null,
     "status": "pending"
    },
    "tags": []
   },
   "source": [
    "**Loading MNIST data**"
   ]
  },
  {
   "cell_type": "markdown",
   "id": "046c1dae",
   "metadata": {
    "papermill": {
     "duration": null,
     "end_time": null,
     "exception": null,
     "start_time": null,
     "status": "pending"
    },
    "tags": []
   },
   "source": [
    "In the picture you can see samples from the MNIST sample database which contains several thousand handwritten digits. A discriminative model can receive a picture of a digit in a hand, and say what digit it received. On the other hand, a model that seems to learn the distribution of the digits, and a person himself can see new digits like digits he wrote, but in fact they do not appear in the database.\n",
    "The MNIST database contains 60,000 training images and 10,000 testing images"
   ]
  },
  {
   "cell_type": "code",
   "execution_count": null,
   "id": "ec1692f9",
   "metadata": {
    "execution": {
     "iopub.execute_input": "2023-04-29T12:19:41.638200Z",
     "iopub.status.busy": "2023-04-29T12:19:41.637727Z",
     "iopub.status.idle": "2023-04-29T12:19:45.691434Z",
     "shell.execute_reply": "2023-04-29T12:19:45.689957Z",
     "shell.execute_reply.started": "2023-04-29T12:19:41.638156Z"
    },
    "papermill": {
     "duration": null,
     "end_time": null,
     "exception": null,
     "start_time": null,
     "status": "pending"
    },
    "tags": []
   },
   "outputs": [],
   "source": [
    "# loading data\n",
    "train_orginal = pd.read_csv('/kaggle/input/mnist-in-csv/mnist_train.csv')\n",
    "test_orginal = pd.read_csv('/kaggle/input/mnist-in-csv/mnist_test.csv')\n",
    "\n",
    "# data info\n",
    "train_orginal.info()\n",
    "print(train_orginal.shape)\n",
    "print('-------------------------------------')\n",
    "test_orginal.info()\n",
    "print(test_orginal.shape)"
   ]
  },
  {
   "cell_type": "markdown",
   "id": "a33f0834",
   "metadata": {
    "papermill": {
     "duration": null,
     "end_time": null,
     "exception": null,
     "start_time": null,
     "status": "pending"
    },
    "tags": []
   },
   "source": [
    "**Reshape & normalize**"
   ]
  },
  {
   "cell_type": "markdown",
   "id": "3e1b67bd",
   "metadata": {
    "papermill": {
     "duration": null,
     "end_time": null,
     "exception": null,
     "start_time": null,
     "status": "pending"
    },
    "tags": []
   },
   "source": [
    "The data set contains pixels where the value of each pixel ranges from 0 to 255. We will want to normalize the value of each pixel to be between 0 and 1."
   ]
  },
  {
   "cell_type": "code",
   "execution_count": null,
   "id": "67d546a0",
   "metadata": {
    "execution": {
     "iopub.execute_input": "2023-04-29T12:42:07.691632Z",
     "iopub.status.busy": "2023-04-29T12:42:07.691158Z",
     "iopub.status.idle": "2023-04-29T12:42:08.095283Z",
     "shell.execute_reply": "2023-04-29T12:42:08.094263Z",
     "shell.execute_reply.started": "2023-04-29T12:42:07.691589Z"
    },
    "papermill": {
     "duration": null,
     "end_time": null,
     "exception": null,
     "start_time": null,
     "status": "pending"
    },
    "tags": []
   },
   "outputs": [],
   "source": [
    "# X's\n",
    "X_train = train_orginal.drop(['label'], axis = 1)\n",
    "X_test = test_orginal.drop(['label'], axis = 1)\n",
    "\n",
    "# labels\n",
    "y_train = train_orginal['label']\n",
    "y_test = test_orginal['label']\n",
    "\n",
    "# Normalize and reshape\n",
    "X_train = X_train.astype('float32') / 255.\n",
    "X_train = X_train.values.reshape(-1,28,28)\n",
    "\n",
    "X_test = X_test.astype('float32') / 255.\n",
    "X_test = X_test.values.reshape(-1,28,28)\n",
    "\n",
    "# print shape\n",
    "print(\"Shape of X_train: \", X_train.shape)\n",
    "print(\"Shape of y_train: \", y_train.shape)\n",
    "print(\"Shape of X_test: \", X_test.shape)\n",
    "print(\"Shape of y_test: \", y_test.shape)"
   ]
  },
  {
   "cell_type": "markdown",
   "id": "e732c8b4",
   "metadata": {
    "papermill": {
     "duration": null,
     "end_time": null,
     "exception": null,
     "start_time": null,
     "status": "pending"
    },
    "tags": []
   },
   "source": [
    "Display images of the first 10 digits in the training set and their true lables"
   ]
  },
  {
   "cell_type": "code",
   "execution_count": null,
   "id": "57525020",
   "metadata": {
    "execution": {
     "iopub.execute_input": "2023-04-29T12:42:26.054563Z",
     "iopub.status.busy": "2023-04-29T12:42:26.054088Z",
     "iopub.status.idle": "2023-04-29T12:42:28.171275Z",
     "shell.execute_reply": "2023-04-29T12:42:28.170242Z",
     "shell.execute_reply.started": "2023-04-29T12:42:26.054521Z"
    },
    "papermill": {
     "duration": null,
     "end_time": null,
     "exception": null,
     "start_time": null,
     "status": "pending"
    },
    "tags": []
   },
   "outputs": [],
   "source": [
    "ncols = 5  # number ofcolumns\n",
    "nrows = 2  #number of rows\n",
    "fig, axs = plt.subplots(nrows, ncols, sharey=False, tight_layout=True, \n",
    "                        figsize=(12,6), facecolor='white')\n",
    "n=0\n",
    "for i in range(0,2):                  \n",
    "    for j in range(0,5):\n",
    "        axs[i,j].matshow(X_train[n])\n",
    "        axs[i,j].set(title=y_train[n])\n",
    "        n=n+1\n",
    "plt.show() "
   ]
  },
  {
   "cell_type": "markdown",
   "id": "679669f7",
   "metadata": {
    "papermill": {
     "duration": null,
     "end_time": null,
     "exception": null,
     "start_time": null,
     "status": "pending"
    },
    "tags": []
   },
   "source": [
    "**Flatten the images**\n",
    "\n",
    "The last step in the setup is to flatten the images by reformatting from 28x28 to 784.\n",
    "Convolutional layers are often used instead of flattening images, especially when working with larger images. But I chose to use dense layers with flat data instead of Convolutional ones."
   ]
  },
  {
   "cell_type": "code",
   "execution_count": null,
   "id": "e212693b",
   "metadata": {
    "execution": {
     "iopub.execute_input": "2023-04-29T12:47:06.446409Z",
     "iopub.status.busy": "2023-04-29T12:47:06.444737Z",
     "iopub.status.idle": "2023-04-29T12:47:06.455203Z",
     "shell.execute_reply": "2023-04-29T12:47:06.453597Z",
     "shell.execute_reply.started": "2023-04-29T12:47:06.446323Z"
    },
    "papermill": {
     "duration": null,
     "end_time": null,
     "exception": null,
     "start_time": null,
     "status": "pending"
    },
    "tags": []
   },
   "outputs": [],
   "source": [
    "# Reshape input data\n",
    "X_train = X_train.reshape(60000, 784)\n",
    "X_test = X_test.reshape(10000, 784)\n",
    "\n",
    "# Print shapes\n",
    "print(\"New shape of X_train: \", X_train.shape)\n",
    "print(\"New shape of X_test: \", X_test.shape)"
   ]
  },
  {
   "cell_type": "markdown",
   "id": "b1307a68",
   "metadata": {
    "papermill": {
     "duration": null,
     "end_time": null,
     "exception": null,
     "start_time": null,
     "status": "pending"
    },
    "tags": []
   },
   "source": [
    "# **3. Building VAE model**"
   ]
  },
  {
   "attachments": {
    "f89dc2e3-5363-458b-a800-98f1b48abf4b.png": {
     "image/png": "[encoded data removed]"
    }
   },
   "cell_type": "markdown",
   "id": "fcd0cf81",
   "metadata": {
    "papermill": {
     "duration": null,
     "end_time": null,
     "exception": null,
     "start_time": null,
     "status": "pending"
    },
    "tags": []
   },
   "source": [
    "**Sampling Function**\n",
    "Reparameterisation(latent space distribution)\n",
    "We will start by defining a function that will help us to sample from a latent space distribution Z.\n",
    "Here we employ a reparameterisation trick that allows the loss to backpropagate through the mean (z-mean) and variance (z-log-sigma) nodes since they are deterministic.\n",
    "At the same time, we separate the sampling node by adding a non-deterministic parameter, epsilon, which is sampled from a standard Normal distribution.\n",
    "\n",
    "* Create a function, which we will use to randomly sample from latent space distribution\n",
    "* Note, epsilon is sampled from a standard normal distribution and is used to maintain the required stochasticity of Z\n",
    "* Meanwhile, z-mean and z-sigma remain deterministic allowing the loss to backpropagate through the layers.\n",
    "\n",
    "![image.png](attachment:f89dc2e3-5363-458b-a800-98f1b48abf4b.png)"
   ]
  },
  {
   "cell_type": "code",
   "execution_count": null,
   "id": "5851b9c2",
   "metadata": {
    "execution": {
     "iopub.execute_input": "2023-04-29T13:17:08.942169Z",
     "iopub.status.busy": "2023-04-29T13:17:08.941626Z",
     "iopub.status.idle": "2023-04-29T13:17:08.950151Z",
     "shell.execute_reply": "2023-04-29T13:17:08.948623Z",
     "shell.execute_reply.started": "2023-04-29T13:17:08.942123Z"
    },
    "papermill": {
     "duration": null,
     "end_time": null,
     "exception": null,
     "start_time": null,
     "status": "pending"
    },
    "tags": []
   },
   "outputs": [],
   "source": [
    "def sampling(args):\n",
    "    z_mean, z_log_sigma = args\n",
    "    epsilon = K.random_normal(shape=(K.shape(z_mean)[0], latent_dim), mean=0., stddev=1.)  # epsilon ~ N(0,1)  -> Gaussian Noise\n",
    "    return z_mean + K.exp(z_log_sigma) * epsilon     #  latent space -> Z , Z = mean+sigma@epsilon "
   ]
  },
  {
   "cell_type": "markdown",
   "id": "3661dfab",
   "metadata": {
    "papermill": {
     "duration": null,
     "end_time": null,
     "exception": null,
     "start_time": null,
     "status": "pending"
    },
    "tags": []
   },
   "source": [
    "**Encoder network**\n",
    "\n",
    "An encoder that that learns the parameters (mean and variance) of the underlying latent distribution"
   ]
  },
  {
   "cell_type": "code",
   "execution_count": null,
   "id": "90646550",
   "metadata": {
    "execution": {
     "iopub.execute_input": "2023-04-29T13:46:10.516985Z",
     "iopub.status.busy": "2023-04-29T13:46:10.515887Z",
     "iopub.status.idle": "2023-04-29T13:46:10.838474Z",
     "shell.execute_reply": "2023-04-29T13:46:10.836554Z",
     "shell.execute_reply.started": "2023-04-29T13:46:10.516875Z"
    },
    "papermill": {
     "duration": null,
     "end_time": null,
     "exception": null,
     "start_time": null,
     "status": "pending"
    },
    "tags": []
   },
   "outputs": [],
   "source": [
    "# Specify dimensions for input/output and latent space layers\n",
    "original_dim = 784                                                                    # number of neurons at the input layer(28 * 28 = 784)\n",
    "latent_dim = 2                                                                        # latent space dimension\n",
    "\n",
    "# ********** Create Encoder **********\n",
    "\n",
    "#--- Input Layer \n",
    "visible = keras.Input(shape=(original_dim,), name='Encoder-Input-Layer')              # input \n",
    "\n",
    "#--- Hidden Layer\n",
    "h_enc1 = Dense(units=64, activation='relu', name='Encoder-Hidden-Layer-1')(visible)   # input layer\n",
    "h_enc2 = Dense(units=16, activation='relu', name='Encoder-Hidden-Layer-2')(h_enc1)    # first hidden layer  \n",
    "h_enc3 = Dense(units=8, activation='relu', name='Encoder-Hidden-Layer-3')(h_enc2)     # second hidden layer\n",
    "\n",
    "#--- Custom Latent Space Layer\n",
    "z_mean = Dense(units=latent_dim, name='Z-Mean')(h_enc3)                               # Mean component\n",
    "z_log_sigma = Dense(units=latent_dim, name='Z-Log-Sigma')(h_enc3)                     # Standard deviation component\n",
    "z = Lambda(sampling, name='Z-Sampling-Layer')([z_mean, z_log_sigma])                  # Z sampling layer -> from sampling func\n",
    "\n",
    "#--- Create Encoder model\n",
    "encoder = Model(visible, [z_mean, z_log_sigma, z], name='Encoder-Model')              # Encoder Model\n",
    "\n",
    "# Display model diagram\n",
    "plot_model(encoder, show_shapes=True, dpi=70)                                         # Plot layers Diagram"
   ]
  },
  {
   "cell_type": "markdown",
   "id": "9d7897a8",
   "metadata": {
    "papermill": {
     "duration": null,
     "end_time": null,
     "exception": null,
     "start_time": null,
     "status": "pending"
    },
    "tags": []
   },
   "source": [
    "**Decoder network**\n",
    "\n",
    "A decoder that can turn the sample  back into an image.        \n",
    "The decoder is basically the encoder in reverse."
   ]
  },
  {
   "cell_type": "code",
   "execution_count": null,
   "id": "3062365f",
   "metadata": {
    "execution": {
     "iopub.execute_input": "2023-04-29T13:46:27.855901Z",
     "iopub.status.busy": "2023-04-29T13:46:27.855362Z",
     "iopub.status.idle": "2023-04-29T13:46:28.124622Z",
     "shell.execute_reply": "2023-04-29T13:46:28.123001Z",
     "shell.execute_reply.started": "2023-04-29T13:46:27.855845Z"
    },
    "papermill": {
     "duration": null,
     "end_time": null,
     "exception": null,
     "start_time": null,
     "status": "pending"
    },
    "tags": []
   },
   "outputs": [],
   "source": [
    "# ********** Create Decoder **********\n",
    "\n",
    "#--- Input Layer \n",
    "latent_inputs = Input(shape=(latent_dim,), name='Input-Z-Sampling')                        # input = output from latent space\n",
    "\n",
    "#--- Hidden Layer\n",
    "h_dec = Dense(units=8, activation='relu', name='Decoder-Hidden-Layer-1')(latent_inputs)    # input layer\n",
    "h_dec2 = Dense(units=16, activation='relu', name='Decoder-Hidden-Layer-2')(h_dec)          # first hidden layer\n",
    "h_dec3 = Dense(units=64, activation='relu', name='Decoder-Hidden-Layer-3')(h_dec2)         # second hidden layer\n",
    "\n",
    "#--- Output Layer\n",
    "outputs = Dense(original_dim, activation='sigmoid', name='Decoder-Output-Layer')(h_dec3)   # output layer\n",
    "\n",
    "#--- Create Decoder model\n",
    "decoder = Model(latent_inputs, outputs, name='Decoder-Model')                              # Decoder Model\n",
    "\n",
    "# Display model diagram\n",
    "plot_model(decoder, show_shapes=True, dpi=70)                                              # Plot layers Diagram"
   ]
  },
  {
   "cell_type": "code",
   "execution_count": null,
   "id": "22019844",
   "metadata": {
    "execution": {
     "iopub.execute_input": "2023-04-29T14:10:27.160365Z",
     "iopub.status.busy": "2023-04-29T14:10:27.159834Z",
     "iopub.status.idle": "2023-04-29T14:10:27.244204Z",
     "shell.execute_reply": "2023-04-29T14:10:27.241829Z",
     "shell.execute_reply.started": "2023-04-29T14:10:27.160316Z"
    },
    "papermill": {
     "duration": null,
     "end_time": null,
     "exception": null,
     "start_time": null,
     "status": "pending"
    },
    "tags": []
   },
   "outputs": [],
   "source": [
    "# Running VAE model\n",
    "outpt = decoder(encoder(visible)[2]) # outputs available from encoder model are z_mean, z_log_sigma and z. \n",
    "                                     # We take z by specifying [2]\n",
    "    \n",
    "# Instantiate a VAE model\n",
    "vae = Model(inputs=visible, outputs=outpt, name='VAE-Model')"
   ]
  },
  {
   "cell_type": "markdown",
   "id": "225b6a46",
   "metadata": {
    "papermill": {
     "duration": null,
     "end_time": null,
     "exception": null,
     "start_time": null,
     "status": "pending"
    },
    "tags": []
   },
   "source": [
    "![](https://miro.medium.com/v2/resize:fit:1100/format:webp/1*fu-oMTxJRHzRpzwUBBBBcA.png)"
   ]
  },
  {
   "cell_type": "markdown",
   "id": "ca636ec5",
   "metadata": {
    "papermill": {
     "duration": null,
     "end_time": null,
     "exception": null,
     "start_time": null,
     "status": "pending"
    },
    "tags": []
   },
   "source": [
    "**Loss Function**\n",
    "\n",
    "Before training the VAE model, the final step is to create a custom loss function and compile the model.  \n",
    "* **KL divergence** - to measure the loss between the latent space distribution and a reference standard Normal distribution\n",
    "![](https://encrypted-tbn0.gstatic.com/images?q=tbn:ANd9GcRwluYFS3HYg16TpFWyqEW1pjjVDWbwVNtrfVaKq1wMEb5sFu0CuBDDC4e1l7kdpHNhug&usqp=CAUhttps://encrypted-tbn0.gstatic.com/images?q=tbn:ANd9GcRwluYFS3HYg16TpFWyqEW1pjjVDWbwVNtrfVaKq1wMEb5sFu0CuBDDC4e1l7kdpHNhug&usqp=CAU)\n",
    "\n",
    "* **VAE loss** - \n",
    "\n",
    "* **r_loss** - "
   ]
  },
  {
   "cell_type": "code",
   "execution_count": null,
   "id": "c1cf2ec8",
   "metadata": {
    "execution": {
     "iopub.execute_input": "2023-04-29T14:10:28.715851Z",
     "iopub.status.busy": "2023-04-29T14:10:28.714642Z",
     "iopub.status.idle": "2023-04-29T14:10:28.794418Z",
     "shell.execute_reply": "2023-04-29T14:10:28.793235Z",
     "shell.execute_reply.started": "2023-04-29T14:10:28.715771Z"
    },
    "papermill": {
     "duration": null,
     "end_time": null,
     "exception": null,
     "start_time": null,
     "status": "pending"
    },
    "tags": []
   },
   "outputs": [],
   "source": [
    "# Reconstruction loss compares inputs and outputs and tries to minimise the difference\n",
    "r_loss = original_dim * keras.losses.mse(visible, outpt)  # use MSE\n",
    "\n",
    "# KL divergence loss compares the encoded latent distribution Z with standard Normal distribution and penalizes if it's too different\n",
    "kl_loss =  -0.5 * K.sum(1 + z_log_sigma - K.square(z_mean) - K.exp(z_log_sigma), axis = 1)\n",
    "\n",
    "# The VAE loss is a combination of reconstruction loss and KL loss\n",
    "vae_loss = K.mean(r_loss + kl_loss)\n",
    "\n",
    "# Add loss to the model and compile it\n",
    "vae.add_loss(vae_loss)\n",
    "vae.compile(optimizer='adam')"
   ]
  },
  {
   "cell_type": "markdown",
   "id": "e31b14f9",
   "metadata": {
    "papermill": {
     "duration": null,
     "end_time": null,
     "exception": null,
     "start_time": null,
     "status": "pending"
    },
    "tags": []
   },
   "source": [
    "# 4. **Train the VAE** "
   ]
  },
  {
   "cell_type": "code",
   "execution_count": null,
   "id": "f6730175",
   "metadata": {
    "execution": {
     "iopub.execute_input": "2023-04-29T14:14:49.280359Z",
     "iopub.status.busy": "2023-04-29T14:14:49.279795Z",
     "iopub.status.idle": "2023-04-29T14:20:39.288633Z",
     "shell.execute_reply": "2023-04-29T14:20:39.287207Z",
     "shell.execute_reply.started": "2023-04-29T14:14:49.280311Z"
    },
    "papermill": {
     "duration": null,
     "end_time": null,
     "exception": null,
     "start_time": null,
     "status": "pending"
    },
    "tags": []
   },
   "outputs": [],
   "source": [
    "# Train VAE model\n",
    "history = vae.fit(X_train, y_train, epochs=25, batch_size=16, validation_data=(X_test, X_test))\n",
    "\n",
    "# Plot a loss chart\n",
    "fig, ax = plt.subplots(figsize=(16,9), dpi=120)\n",
    "plt.title(label='Model Loss by Epoch', loc='center')\n",
    "\n",
    "ax.plot(history.history['loss'], label='Training Data', color='black')\n",
    "ax.plot(history.history['val_loss'], label='Test Data', color='red')\n",
    "ax.set(xlabel='Epoch', ylabel='Loss')\n",
    "plt.xticks(ticks=np.arange(len(history.history['loss']), step=1), labels=np.arange(1, len(history.history['loss'])+1, step=1))\n",
    "plt.legend()\n",
    "plt.show()"
   ]
  },
  {
   "cell_type": "markdown",
   "id": "601acecc",
   "metadata": {
    "papermill": {
     "duration": null,
     "end_time": null,
     "exception": null,
     "start_time": null,
     "status": "pending"
    },
    "tags": []
   },
   "source": [
    "# 5. Results"
   ]
  },
  {
   "cell_type": "markdown",
   "id": "aabfeb30",
   "metadata": {
    "papermill": {
     "duration": null,
     "end_time": null,
     "exception": null,
     "start_time": null,
     "status": "pending"
    },
    "tags": []
   },
   "source": [
    "**Clustering of digits in the latent space**"
   ]
  },
  {
   "cell_type": "code",
   "execution_count": null,
   "id": "3548dfb7",
   "metadata": {
    "execution": {
     "iopub.execute_input": "2023-04-29T14:21:40.997213Z",
     "iopub.status.busy": "2023-04-29T14:21:40.996667Z",
     "iopub.status.idle": "2023-04-29T14:21:42.226407Z",
     "shell.execute_reply": "2023-04-29T14:21:42.225385Z",
     "shell.execute_reply.started": "2023-04-29T14:21:40.997161Z"
    },
    "papermill": {
     "duration": null,
     "end_time": null,
     "exception": null,
     "start_time": null,
     "status": "pending"
    },
    "tags": []
   },
   "outputs": [],
   "source": [
    "# Use encoder model to encode inputs into a latent space\n",
    "X_test_encoded = encoder.predict(X_test)\n",
    "\n",
    "# Recall that our encoder returns 3 arrays: z-mean, z-log-sigma and z. We plot the values for z\n",
    "# Create a scatter plot\n",
    "fig = px.scatter(None, x=X_test_encoded[2][:,0], y=X_test_encoded[2][:,1], \n",
    "                 opacity=1, color=y_test.astype(str))\n",
    "\n",
    "# Change chart background color\n",
    "fig.update_layout(dict(plot_bgcolor = 'white'))\n",
    "\n",
    "# Update axes lines\n",
    "fig.update_xaxes(showgrid=True, gridwidth=1, gridcolor='white', \n",
    "                 zeroline=True, zerolinewidth=1, zerolinecolor='white', \n",
    "                 showline=True, linewidth=1, linecolor='white',\n",
    "                 title_font=dict(size=10), tickfont=dict(size=10))\n",
    "\n",
    "fig.update_yaxes(showgrid=True, gridwidth=1, gridcolor='white', \n",
    "                 zeroline=True, zerolinewidth=1, zerolinecolor='white', \n",
    "                 showline=True, linewidth=1, linecolor='white',\n",
    "                 title_font=dict(size=10), tickfont=dict(size=10))\n",
    "\n",
    "# Set figure title\n",
    "fig.update_layout(title_text=\"MNIST digit representation in the 2D Latent Space\")\n",
    "\n",
    "# Update marker size\n",
    "fig.update_traces(marker=dict(size=2))\n",
    "\n",
    "fig.show()"
   ]
  },
  {
   "cell_type": "markdown",
   "id": "d0ad120c",
   "metadata": {
    "papermill": {
     "duration": null,
     "end_time": null,
     "exception": null,
     "start_time": null,
     "status": "pending"
    },
    "tags": []
   },
   "source": [
    "Plotting the digit distribution in the latent space gives us the benefit of visually associating different regions with different digits.\n",
    "\n",
    "Say we want to generate a new image of a digit 3. We know that 3’s are located in the top middle of the latent space. So let’s pick the coordinates of [0, 2.5] and generate an image associated with those inputs."
   ]
  },
  {
   "cell_type": "code",
   "execution_count": null,
   "id": "3115bd29",
   "metadata": {
    "execution": {
     "iopub.execute_input": "2023-04-29T14:22:01.642002Z",
     "iopub.status.busy": "2023-04-29T14:22:01.640638Z",
     "iopub.status.idle": "2023-04-29T14:22:02.060975Z",
     "shell.execute_reply": "2023-04-29T14:22:02.059330Z",
     "shell.execute_reply.started": "2023-04-29T14:22:01.641947Z"
    },
    "papermill": {
     "duration": null,
     "end_time": null,
     "exception": null,
     "start_time": null,
     "status": "pending"
    },
    "tags": []
   },
   "outputs": [],
   "source": [
    "# Input latent space coordinates\n",
    "z_sample_digit=[[0,2.5]]\n",
    "\n",
    "# Decode latent inputs (i.e., generate new outputs)\n",
    "digit_decoded = decoder.predict(z_sample_digit)\n",
    "\n",
    "# Reshape and display the image\n",
    "plt.matshow(digit_decoded.reshape(28,28))\n",
    "plt.show()"
   ]
  },
  {
   "cell_type": "markdown",
   "id": "82a042c6",
   "metadata": {
    "papermill": {
     "duration": null,
     "end_time": null,
     "exception": null,
     "start_time": null,
     "status": "pending"
    },
    "tags": []
   },
   "source": [
    "# 6. Generate new digits "
   ]
  },
  {
   "cell_type": "markdown",
   "id": "eb7a989d",
   "metadata": {
    "papermill": {
     "duration": null,
     "end_time": null,
     "exception": null,
     "start_time": null,
     "status": "pending"
    },
    "tags": []
   },
   "source": [
    "generate 900 new digits from across the whole latent space."
   ]
  },
  {
   "cell_type": "code",
   "execution_count": null,
   "id": "be03d259",
   "metadata": {
    "execution": {
     "iopub.execute_input": "2023-04-29T14:22:05.471474Z",
     "iopub.status.busy": "2023-04-29T14:22:05.471027Z",
     "iopub.status.idle": "2023-04-29T14:23:41.981704Z",
     "shell.execute_reply": "2023-04-29T14:23:41.979944Z",
     "shell.execute_reply.started": "2023-04-29T14:22:05.471432Z"
    },
    "papermill": {
     "duration": null,
     "end_time": null,
     "exception": null,
     "start_time": null,
     "status": "pending"
    },
    "tags": []
   },
   "outputs": [],
   "source": [
    "# Display a 2D manifold of the digits\n",
    "n = 30  # figure with 30x30 digits\n",
    "digit_size = 28\n",
    "figure = np.zeros((digit_size * n, digit_size * n))\n",
    "\n",
    "# We will sample n points within [-1.5, 1.5] standard deviations\n",
    "grid_x = np.linspace(1.5, -1.5, n)\n",
    "grid_y = np.linspace(-1.5, 1.5, n)\n",
    "\n",
    "for i, yi in enumerate(grid_x):\n",
    "    for j, xi in enumerate(grid_y):\n",
    "        z_sample = np.array([[xi, yi]])\n",
    "        # Generate an image using a decoder model\n",
    "        x_decoded = decoder.predict(z_sample)\n",
    "        #x_decoded = np.clip(x_decoded, 0.25, 0.75) # we could use cliping to make digit edges thicker\n",
    "        \n",
    "        # Reshape from 784 to original digit size (28x28)\n",
    "        digit = x_decoded[0].reshape(digit_size, digit_size)\n",
    "        figure[i * digit_size: (i + 1) * digit_size,\n",
    "               j * digit_size: (j + 1) * digit_size] = digit\n",
    "\n",
    "# Plot figure\n",
    "plt.figure(figsize=(18, 16))\n",
    "plt.imshow(figure)\n",
    "plt.show()"
   ]
  },
  {
   "cell_type": "markdown",
   "id": "140b42d7",
   "metadata": {
    "papermill": {
     "duration": null,
     "end_time": null,
     "exception": null,
     "start_time": null,
     "status": "pending"
    },
    "tags": []
   },
   "source": [
    "# 7. Reference\n",
    "\n",
    "**Code:**\n",
    "1. [Link](http://https://www.tensorflow.org/tutorials/generative/cvae?hl=he)\n",
    "\n",
    "**Book:**\n",
    "1. [Link](https://www.amazon.com/Deep-Learning-Python-Francois-Chollet/dp/1617294438/ref=sr_1_1?ie=UTF8&qid=1520470984&sr=8-1&keywords=francois+chollet)\n",
    "\n",
    "**GitHub:**\n",
    "1. [Link](https://github.com/brilliantFire/deep-learning-with-python-notebooks)\n",
    "\n",
    "**Article**\n",
    "1. [VAE](https://towardsdatascience.com/understanding-variational-autoencoders-vaes-f70510919f73)\n",
    "2. [VAE](https://arxiv.org/pdf/2012.11551.pdf)\n",
    "3. [Adam Optimization](https://arxiv.org/pdf/1412.6980.pdf)\n",
    "4. [Relu activation function](https://proceedings.mlr.press/v15/glorot11a/glorot11a.pdf)\n"
   ]
  }
 ],
 "metadata": {
  "kernelspec": {
   "display_name": "Python 3",
   "language": "python",
   "name": "python3"
  },
  "language_info": {
   "codemirror_mode": {
    "name": "ipython",
    "version": 3
   },
   "file_extension": ".py",
   "mimetype": "text/x-python",
   "name": "python",
   "nbconvert_exporter": "python",
   "pygments_lexer": "ipython3",
   "version": "3.7.12"
  },
  "papermill": {
   "default_parameters": {},
   "duration": 24.876076,
   "end_time": "2023-04-29T14:45:34.814776",
   "environment_variables": {},
   "exception": true,
   "input_path": "__notebook__.ipynb",
   "output_path": "__notebook__.ipynb",
   "parameters": {},
   "start_time": "2023-04-29T14:45:09.938700",
   "version": "2.4.0"
  }
 },
 "nbformat": 4,
 "nbformat_minor": 5
}
